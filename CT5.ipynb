{
 "cells": [
  {
   "cell_type": "code",
   "execution_count": 11,
   "metadata": {},
   "outputs": [
    {
     "name": "stdout",
     "output_type": "stream",
     "text": [
      "[3 1 2]\n"
     ]
    }
   ],
   "source": [
    "import pandas as pd\n",
    "import matplotlib.pyplot as plt\n",
    "\n",
    "titanic_data = pd.read_csv(\"MIS542titanic.csv\")\n",
    "print(titanic_data['Passenger Class'].unique())\n",
    "\n"
   ]
  },
  {
   "cell_type": "code",
   "execution_count": 16,
   "metadata": {},
   "outputs": [
    {
     "name": "stdout",
     "output_type": "stream",
     "text": [
      "0       7.2500\n",
      "1      71.2833\n",
      "2       7.9250\n",
      "3      53.1000\n",
      "4       8.0500\n",
      "        ...   \n",
      "882    13.0000\n",
      "883    30.0000\n",
      "884    23.4500\n",
      "885    30.0000\n",
      "886     7.7500\n",
      "Name: Fare in British Pounds, Length: 887, dtype: float64\n",
      "Average cost of first class ticket:  107.718\n",
      "Index(['Survived', 'Passenger Class', 'Name', 'Sex', 'Age',\n",
      "       'Siblings/Spouses Aboard', 'Parents/Children Aboard',\n",
      "       'Fare in British Pounds', 'Fare in USD'],\n",
      "      dtype='object')\n",
      "0       9.280000\n",
      "1      91.242624\n",
      "2      10.144000\n",
      "3      67.968000\n",
      "4      10.304000\n",
      "         ...    \n",
      "882    16.640000\n",
      "883    38.400000\n",
      "884    30.016000\n",
      "885    38.400000\n",
      "886     9.920000\n",
      "Name: Fare in USD, Length: 887, dtype: float64\n"
     ]
    }
   ],
   "source": [
    "# Question 1 #\n",
    "# What was the average cost in U.S. dollars of a first-class ticket???\n",
    "# create a function to convert from pounds to dollars\n",
    "def pound2usd(x):\n",
    "    return x * 1.28\n",
    "\n",
    "print(titanic_data['Fare in British Pounds'])\n",
    "titanic_data['Fare in USD'] = titanic_data['Fare in British Pounds'].apply(pound2usd)\n",
    "# select only the first class tickets\n",
    "average_cost_of_first_class_ticket = titanic_data.loc[titanic_data['Passenger Class'] == 1]['Fare in USD'].mean()\n",
    "print(\"Average cost of first class ticket: \", average_cost_of_first_class_ticket)\n",
    "print(titanic_data.columns)\n",
    "print(titanic_data['Fare in USD'])\n"
   ]
  },
  {
   "cell_type": "code",
   "execution_count": 20,
   "metadata": {},
   "outputs": [
    {
     "name": "stdout",
     "output_type": "stream",
     "text": [
      "64\n"
     ]
    }
   ],
   "source": [
    "# Question 2 #\n",
    "# How many passengers over 20 had siblings onboard???\n",
    "\n",
    "people_over_20 = titanic_data.loc[titanic_data['Age'] >= 20]\n",
    "people_over_20_with_siblings = people_over_20.loc[people_over_20['Siblings/Spouses Aboard']>1]\n",
    "number_of_siblings = people_over_20_with_siblings['Siblings/Spouses Aboard'].sum()\n",
    "print(number_of_siblings)"
   ]
  },
  {
   "cell_type": "code",
   "execution_count": 22,
   "metadata": {},
   "outputs": [
    {
     "name": "stdout",
     "output_type": "stream",
     "text": [
      "28.0\n"
     ]
    }
   ],
   "source": [
    "# Question 3 #\n",
    "# What was the median age of those who did not survive???\n",
    "\n",
    "people_who_died = titanic_data.loc[titanic_data['Survived'] == 0]\n",
    "median_age_of_people_who_died = people_who_died['Age'].median()\n",
    "print(median_age_of_people_who_died)"
   ]
  },
  {
   "cell_type": "code",
   "execution_count": null,
   "metadata": {},
   "outputs": [],
   "source": [
    "# Question 4 #"
   ]
  },
  {
   "cell_type": "code",
   "execution_count": null,
   "metadata": {},
   "outputs": [],
   "source": [
    "# Question 5 # \n",
    "\n"
   ]
  },
  {
   "cell_type": "code",
   "execution_count": null,
   "metadata": {},
   "outputs": [],
   "source": [
    "# Question 6 #\n",
    "\n"
   ]
  },
  {
   "cell_type": "code",
   "execution_count": 28,
   "metadata": {},
   "outputs": [
    {
     "name": "stdout",
     "output_type": "stream",
     "text": [
      "573\n"
     ]
    },
    {
     "data": {
      "text/plain": [
       "([<matplotlib.patches.Wedge at 0x20caf58e7a0>,\n",
       "  <matplotlib.patches.Wedge at 0x20caf534610>],\n",
       " [Text(-0.48702712164056955, 0.9863085636789849, 'Males: 573'),\n",
       "  Text(0.4870272139854391, -0.9863085180802108, 'Females: 314')])"
      ]
     },
     "execution_count": 28,
     "metadata": {},
     "output_type": "execute_result"
    },
    {
     "data": {
      "image/png": "[encoded data removed]",
      "text/plain": [
       "<Figure size 640x480 with 1 Axes>"
      ]
     },
     "metadata": {},
     "output_type": "display_data"
    }
   ],
   "source": [
    "# Chart 1 #\n",
    "# Show the number of males and females\n",
    "males = len(titanic_data.loc[titanic_data['Sex'] == 'male'])\n",
    "females = len(titanic_data.loc[titanic_data['Sex'] == 'female'])\n",
    "\n",
    "labels = \"Males: \"+str(males), \"Females: \"+str(females)\n",
    "sizes = [males, females]\n",
    "\n",
    "fig, ax = plt.subplots()\n",
    "ax.pie(sizes,labels=labels)"
   ]
  },
  {
   "cell_type": "code",
   "execution_count": 37,
   "metadata": {},
   "outputs": [
    {
     "data": {
      "text/plain": [
       "<BarContainer object of 2 artists>"
      ]
     },
     "execution_count": 37,
     "metadata": {},
     "output_type": "execute_result"
    },
    {
     "data": {
      "image/png": "[encoded data removed]",
      "text/plain": [
       "<Figure size 640x480 with 1 Axes>"
      ]
     },
     "metadata": {},
     "output_type": "display_data"
    }
   ],
   "source": [
    "# Chart 2 #\n",
    "# use a bar chart to show the count of male survivors and count of female survivors\n",
    "males = titanic_data.loc[titanic_data['Sex'] == 'male']\n",
    "females = titanic_data.loc[titanic_data['Sex'] == 'female']\n",
    "number_of_males_who_survived = len(males.loc[males['Survived'] == 1])\n",
    "number_of_females_who_survived = len(females.loc[females['Survived'] == 1])\n",
    "\n",
    "labels = [\"Surviving Males: \"+str(number_of_males_who_survived), \"Surviving Females: \"+str(number_of_females_who_survived)]\n",
    "sizes = [number_of_males_who_survived, number_of_females_who_survived]\n",
    "\n",
    "plt.bar(labels, sizes)\n"
   ]
  },
  {
   "cell_type": "code",
   "execution_count": null,
   "metadata": {},
   "outputs": [],
   "source": [
    "# Chart 3 #"
   ]
  }
 ],
 "metadata": {
  "kernelspec": {
   "display_name": ".venv",
   "language": "python",
   "name": "python3"
  },
  "language_info": {
   "codemirror_mode": {
    "name": "ipython",
    "version": 3
   },
   "file_extension": ".py",
   "mimetype": "text/x-python",
   "name": "python",
   "nbconvert_exporter": "python",
   "pygments_lexer": "ipython3",
   "version": "3.10.10"
  },
  "orig_nbformat": 4,
  "vscode": {
   "interpreter": {
    "hash": "0dfa51c58f3f5be3959ba84d62887ecdb0cba2eefa2916bd3c34cc83119f089c"
   }
  }
 },
 "nbformat": 4,
 "nbformat_minor": 2
}
